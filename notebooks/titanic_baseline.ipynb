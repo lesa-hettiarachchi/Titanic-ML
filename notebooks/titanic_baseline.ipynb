{
 "cells": [
  {
   "cell_type": "code",
   "execution_count": 246,
   "id": "bdc7292d",
   "metadata": {},
   "outputs": [],
   "source": [
    "import pandas as pd\n",
    "import numpy as np\n",
    "import matplotlib.pyplot as plt\n",
    "import seaborn as sns\n",
    "\n",
    "train_data = pd.read_csv('../data/train.csv')\n",
    "test_data = pd.read_csv('../data/test.csv')"
   ]
  },
  {
   "cell_type": "code",
   "execution_count": 247,
   "id": "0962fd64",
   "metadata": {},
   "outputs": [
    {
     "name": "stdout",
     "output_type": "stream",
     "text": [
      "   PassengerId  Survived  Pclass  \\\n",
      "0            1         0       3   \n",
      "1            2         1       1   \n",
      "2            3         1       3   \n",
      "3            4         1       1   \n",
      "4            5         0       3   \n",
      "\n",
      "                                                Name     Sex   Age  SibSp  \\\n",
      "0                            Braund, Mr. Owen Harris    male  22.0      1   \n",
      "1  Cumings, Mrs. John Bradley (Florence Briggs Th...  female  38.0      1   \n",
      "2                             Heikkinen, Miss. Laina  female  26.0      0   \n",
      "3       Futrelle, Mrs. Jacques Heath (Lily May Peel)  female  35.0      1   \n",
      "4                           Allen, Mr. William Henry    male  35.0      0   \n",
      "\n",
      "   Parch            Ticket     Fare Cabin Embarked  \n",
      "0      0         A/5 21171   7.2500   NaN        S  \n",
      "1      0          PC 17599  71.2833   C85        C  \n",
      "2      0  STON/O2. 3101282   7.9250   NaN        S  \n",
      "3      0            113803  53.1000  C123        S  \n",
      "4      0            373450   8.0500   NaN        S  \n",
      "<class 'pandas.core.frame.DataFrame'>\n",
      "RangeIndex: 891 entries, 0 to 890\n",
      "Data columns (total 12 columns):\n",
      " #   Column       Non-Null Count  Dtype  \n",
      "---  ------       --------------  -----  \n",
      " 0   PassengerId  891 non-null    int64  \n",
      " 1   Survived     891 non-null    int64  \n",
      " 2   Pclass       891 non-null    int64  \n",
      " 3   Name         891 non-null    object \n",
      " 4   Sex          891 non-null    object \n",
      " 5   Age          714 non-null    float64\n",
      " 6   SibSp        891 non-null    int64  \n",
      " 7   Parch        891 non-null    int64  \n",
      " 8   Ticket       891 non-null    object \n",
      " 9   Fare         891 non-null    float64\n",
      " 10  Cabin        204 non-null    object \n",
      " 11  Embarked     889 non-null    object \n",
      "dtypes: float64(2), int64(5), object(5)\n",
      "memory usage: 83.7+ KB\n",
      "None\n"
     ]
    }
   ],
   "source": [
    "print(train_data.head())\n",
    "print(train_data.info())"
   ]
  },
  {
   "cell_type": "code",
   "execution_count": null,
   "id": "1d5c7fbb",
   "metadata": {},
   "outputs": [
    {
     "name": "stdout",
     "output_type": "stream",
     "text": [
      "Pclass\n",
      "1    60.2875\n",
      "2    14.2500\n",
      "3     8.0500\n",
      "Name: Fare, dtype: float64\n"
     ]
    }
   ],
   "source": [
    "# Group by Pclass and calculate median Fare\n",
    "pclass_median_fare = train_data.groupby('Pclass')['Fare'].median()\n",
    "print(pclass_median_fare)\n",
    "\n",
    "# Create HighFare feature\n",
    "def is_high_fare(row):\n",
    "    return int(row['Fare'] > pclass_median_fare[row['Pclass']])\n",
    "\n",
    "train_data['HighFare'] = train_data.apply(is_high_fare, axis=1)\n",
    "train_data['Relatives'] = train_data['SibSp'] + train_data['Parch']"
   ]
  },
  {
   "cell_type": "code",
   "execution_count": 256,
   "id": "6f50f5a0",
   "metadata": {},
   "outputs": [
    {
     "data": {
      "text/plain": [
       "HighFare       0\n",
       "Sex            0\n",
       "Age          177\n",
       "Relatives      0\n",
       "Embarked       2\n",
       "dtype: int64"
      ]
     },
     "execution_count": 256,
     "metadata": {},
     "output_type": "execute_result"
    }
   ],
   "source": [
    "features =['HighFare', 'Sex', 'Age','Relatives', 'Embarked']\n",
    "\n",
    "X = train_data[features]\n",
    "Y = train_data[\"Survived\"]\n",
    "\n",
    "X.isnull().sum()"
   ]
  },
  {
   "cell_type": "code",
   "execution_count": 257,
   "id": "e97fb03b",
   "metadata": {},
   "outputs": [
    {
     "name": "stderr",
     "output_type": "stream",
     "text": [
      "/var/folders/th/ng3mbntj6r7dz58m4qwlq3pw0000gn/T/ipykernel_40827/1435967983.py:1: SettingWithCopyWarning: \n",
      "A value is trying to be set on a copy of a slice from a DataFrame.\n",
      "Try using .loc[row_indexer,col_indexer] = value instead\n",
      "\n",
      "See the caveats in the documentation: https://pandas.pydata.org/pandas-docs/stable/user_guide/indexing.html#returning-a-view-versus-a-copy\n",
      "  X[\"Age\"] = X[\"Age\"].fillna(X[\"Age\"].median())\n",
      "/var/folders/th/ng3mbntj6r7dz58m4qwlq3pw0000gn/T/ipykernel_40827/1435967983.py:2: SettingWithCopyWarning: \n",
      "A value is trying to be set on a copy of a slice from a DataFrame.\n",
      "Try using .loc[row_indexer,col_indexer] = value instead\n",
      "\n",
      "See the caveats in the documentation: https://pandas.pydata.org/pandas-docs/stable/user_guide/indexing.html#returning-a-view-versus-a-copy\n",
      "  X[\"Sex\"] = X[\"Sex\"].map({\"female\": 1, \"male\": 0})\n",
      "/var/folders/th/ng3mbntj6r7dz58m4qwlq3pw0000gn/T/ipykernel_40827/1435967983.py:3: SettingWithCopyWarning: \n",
      "A value is trying to be set on a copy of a slice from a DataFrame.\n",
      "Try using .loc[row_indexer,col_indexer] = value instead\n",
      "\n",
      "See the caveats in the documentation: https://pandas.pydata.org/pandas-docs/stable/user_guide/indexing.html#returning-a-view-versus-a-copy\n",
      "  X[\"Embarked\"] = X[\"Embarked\"].map({\"S\": 0, \"C\": 1, \"Q\": 2})\n",
      "/var/folders/th/ng3mbntj6r7dz58m4qwlq3pw0000gn/T/ipykernel_40827/1435967983.py:4: SettingWithCopyWarning: \n",
      "A value is trying to be set on a copy of a slice from a DataFrame.\n",
      "Try using .loc[row_indexer,col_indexer] = value instead\n",
      "\n",
      "See the caveats in the documentation: https://pandas.pydata.org/pandas-docs/stable/user_guide/indexing.html#returning-a-view-versus-a-copy\n",
      "  X[\"Embarked\"] = X[\"Embarked\"].fillna(0)\n"
     ]
    },
    {
     "data": {
      "text/plain": [
       "HighFare     0\n",
       "Sex          0\n",
       "Age          0\n",
       "Relatives    0\n",
       "Embarked     0\n",
       "dtype: int64"
      ]
     },
     "execution_count": 257,
     "metadata": {},
     "output_type": "execute_result"
    }
   ],
   "source": [
    "X[\"Age\"] = X[\"Age\"].fillna(X[\"Age\"].median())\n",
    "X[\"Sex\"] = X[\"Sex\"].map({\"female\": 1, \"male\": 0})\n",
    "X[\"Embarked\"] = X[\"Embarked\"].map({\"S\": 0, \"C\": 1, \"Q\": 2})\n",
    "X[\"Embarked\"] = X[\"Embarked\"].fillna(0)\n",
    "# X[\"Fare\"] = X[\"Fare\"].fillna(X[\"Fare\"].median())\n",
    "\n",
    "X.isnull().sum()"
   ]
  },
  {
   "cell_type": "code",
   "execution_count": 258,
   "id": "9fdc9cbb",
   "metadata": {},
   "outputs": [],
   "source": [
    "from sklearn.linear_model import LogisticRegression\n",
    "from sklearn.model_selection import train_test_split\n",
    "from sklearn.metrics import accuracy_score"
   ]
  },
  {
   "cell_type": "code",
   "execution_count": 267,
   "id": "5effaad3",
   "metadata": {},
   "outputs": [
    {
     "name": "stdout",
     "output_type": "stream",
     "text": [
      "Validation Accuracy: 0.7541899441340782\n"
     ]
    }
   ],
   "source": [
    "X_train, X_val, Y_train, y_val = train_test_split(X, Y, test_size=0.2, random_state=12)\n",
    "\n",
    "# 2. Train model\n",
    "model = LogisticRegression()\n",
    "model.fit(X_train, Y_train)\n",
    "\n",
    "# 3. Predict\n",
    "y_pred = model.predict(X_val)\n",
    "\n",
    "# 4. Accuracy\n",
    "print(\"Validation Accuracy:\", accuracy_score(y_val, y_pred))"
   ]
  },
  {
   "cell_type": "code",
   "execution_count": 262,
   "id": "30e3a36a",
   "metadata": {},
   "outputs": [
    {
     "name": "stdout",
     "output_type": "stream",
     "text": [
      "Pclass\n",
      "1    60.0000\n",
      "2    15.7500\n",
      "3     7.8958\n",
      "Name: Fare, dtype: float64\n"
     ]
    }
   ],
   "source": [
    "# Group by Pclass and calculate median Fare\n",
    "pclass_median_fare = test_data.groupby('Pclass')['Fare'].median()\n",
    "print(pclass_median_fare)\n",
    "\n",
    "# Create HighFare feature\n",
    "def is_high_fare(row):\n",
    "    return int(row['Fare'] > pclass_median_fare[row['Pclass']])\n",
    "\n",
    "test_data['HighFare'] = test_data.apply(is_high_fare, axis=1)\n",
    "test_data['Relatives'] = test_data['SibSp'] + test_data['Parch']"
   ]
  },
  {
   "cell_type": "code",
   "execution_count": 268,
   "id": "19c97e41",
   "metadata": {},
   "outputs": [
    {
     "name": "stderr",
     "output_type": "stream",
     "text": [
      "/var/folders/th/ng3mbntj6r7dz58m4qwlq3pw0000gn/T/ipykernel_40827/3156015897.py:3: SettingWithCopyWarning: \n",
      "A value is trying to be set on a copy of a slice from a DataFrame.\n",
      "Try using .loc[row_indexer,col_indexer] = value instead\n",
      "\n",
      "See the caveats in the documentation: https://pandas.pydata.org/pandas-docs/stable/user_guide/indexing.html#returning-a-view-versus-a-copy\n",
      "  X_test['Sex'] = X_test['Sex'].map({'male': 0, 'female': 1})\n",
      "/var/folders/th/ng3mbntj6r7dz58m4qwlq3pw0000gn/T/ipykernel_40827/3156015897.py:4: SettingWithCopyWarning: \n",
      "A value is trying to be set on a copy of a slice from a DataFrame.\n",
      "Try using .loc[row_indexer,col_indexer] = value instead\n",
      "\n",
      "See the caveats in the documentation: https://pandas.pydata.org/pandas-docs/stable/user_guide/indexing.html#returning-a-view-versus-a-copy\n",
      "  X_test['Age'] = X_test['Age'].fillna(X_test['Age'].median())\n",
      "/var/folders/th/ng3mbntj6r7dz58m4qwlq3pw0000gn/T/ipykernel_40827/3156015897.py:7: SettingWithCopyWarning: \n",
      "A value is trying to be set on a copy of a slice from a DataFrame.\n",
      "Try using .loc[row_indexer,col_indexer] = value instead\n",
      "\n",
      "See the caveats in the documentation: https://pandas.pydata.org/pandas-docs/stable/user_guide/indexing.html#returning-a-view-versus-a-copy\n",
      "  X_test[\"Embarked\"] = X_test[\"Embarked\"].map({\"S\": 0, \"C\": 1, \"Q\": 2})\n",
      "/var/folders/th/ng3mbntj6r7dz58m4qwlq3pw0000gn/T/ipykernel_40827/3156015897.py:8: SettingWithCopyWarning: \n",
      "A value is trying to be set on a copy of a slice from a DataFrame.\n",
      "Try using .loc[row_indexer,col_indexer] = value instead\n",
      "\n",
      "See the caveats in the documentation: https://pandas.pydata.org/pandas-docs/stable/user_guide/indexing.html#returning-a-view-versus-a-copy\n",
      "  X_test[\"Embarked\"] = X_test[\"Embarked\"].fillna(0)\n"
     ]
    },
    {
     "data": {
      "text/plain": [
       "HighFare     0\n",
       "Sex          0\n",
       "Age          0\n",
       "Relatives    0\n",
       "Embarked     0\n",
       "dtype: int64"
      ]
     },
     "execution_count": 268,
     "metadata": {},
     "output_type": "execute_result"
    }
   ],
   "source": [
    "X_test = test_data[features]\n",
    "\n",
    "X_test['Sex'] = X_test['Sex'].map({'male': 0, 'female': 1})\n",
    "X_test['Age'] = X_test['Age'].fillna(X_test['Age'].median())\n",
    "\n",
    "# X_test['Fare'] = X_test['Fare'].fillna(X_test['Fare'].median())\n",
    "X_test[\"Embarked\"] = X_test[\"Embarked\"].map({\"S\": 0, \"C\": 1, \"Q\": 2})\n",
    "X_test[\"Embarked\"] = X_test[\"Embarked\"].fillna(0)\n",
    "\n",
    "X_test.isnull().sum()"
   ]
  },
  {
   "cell_type": "code",
   "execution_count": 270,
   "id": "69ad7b79",
   "metadata": {},
   "outputs": [
    {
     "name": "stdout",
     "output_type": "stream",
     "text": [
      "Submission file created!\n"
     ]
    }
   ],
   "source": [
    "test_predictions = model.predict(X_test)\n",
    "\n",
    "submission = pd.DataFrame({\n",
    "    'PassengerId': test_data['PassengerId'],\n",
    "    'Survived': test_predictions\n",
    "})\n",
    "\n",
    "submission.to_csv('../output/submission.csv', index=False)\n",
    "\n",
    "print(\"Submission file created!\")"
   ]
  }
 ],
 "metadata": {
  "kernelspec": {
   "display_name": "venv",
   "language": "python",
   "name": "python3"
  },
  "language_info": {
   "codemirror_mode": {
    "name": "ipython",
    "version": 3
   },
   "file_extension": ".py",
   "mimetype": "text/x-python",
   "name": "python",
   "nbconvert_exporter": "python",
   "pygments_lexer": "ipython3",
   "version": "3.9.6"
  }
 },
 "nbformat": 4,
 "nbformat_minor": 5
}
